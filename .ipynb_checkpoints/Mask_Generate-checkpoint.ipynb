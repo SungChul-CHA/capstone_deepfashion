{
 "cells": [
  {
   "cell_type": "code",
   "execution_count": 1,
   "id": "8af79b1f",
   "metadata": {},
   "outputs": [],
   "source": [
    "import os\n",
    "import json\n",
    "import cv2\n",
    "import numpy as np"
   ]
  },
  {
   "cell_type": "code",
   "execution_count": 2,
   "id": "fc729602",
   "metadata": {},
   "outputs": [],
   "source": [
    "def read_json_files(directory):\n",
    "    json_files = [f for f in os.listdir(directory) if f.endswith('.json')]\n",
    "    data = []\n",
    "    for file in json_files:\n",
    "        with open(os.path.join(directory, file), 'r') as f:\n",
    "            data.append((file, json.load(f)))\n",
    "    return data\n",
    "\n",
    "def create_sep_mask_from_segmentations(image_shape, segmentations):\n",
    "    mask = np.ones(image_shape[:2], dtype=np.uint8) * 255  # Create a white mask\n",
    "    for i, segmentation in enumerate(segmentations):\n",
    "        for polygon in segmentation:\n",
    "            polygon = np.array(polygon, dtype=np.int32).reshape((-1, 2))\n",
    "            color = (i + 1) * 50  # Different color for each item\n",
    "            cv2.fillPoly(mask, [polygon], color)\n",
    "    return mask\n",
    "\n",
    "def create_zero_mask_from_segmentations(image_shape, segmentations):\n",
    "    mask = np.ones(image_shape[:2], dtype=np.uint8) * 255  # Create a white mask\n",
    "    for segmentation in segmentations:\n",
    "        for polygon in segmentation:\n",
    "            polygon = np.array(polygon, dtype=np.int32).reshape((-1, 2))\n",
    "            cv2.fillPoly(mask, [polygon], 0)  # Fill the polygon with 0\n",
    "    return mask"
   ]
  },
  {
   "cell_type": "code",
   "execution_count": 3,
   "id": "2acf2162",
   "metadata": {},
   "outputs": [],
   "source": [
    "ROOT_DIR = \"/home/work/sungchul/deepfashion/test_dataset/\"\n",
    "\n",
    "JSON_PATH = ROOT_DIR + \"annos\"\n",
    "IMAGE_PATH = ROOT_DIR + \"image\"\n",
    "SEP_MASK_PATH = ROOT_DIR + \"sep_mask\"\n",
    "ZERO_MASK_PATH = ROOT_DIR + \"zero_mask\"\n",
    "MASKED_IMAGE_PATH = ROOT_DIR + \"masked_image\"\n",
    "\n",
    "# Create directories if they don't exist\n",
    "if not os.path.exists(SEP_MASK_PATH):\n",
    "    os.makedirs(SEP_MASK_PATH)\n",
    "\n",
    "if not os.path.exists(ZERO_MASK_PATH):\n",
    "    os.makedirs(ZERO_MASK_PATH)\n",
    "\n",
    "if not os.path.exists(MASKED_IMAGE_PATH):\n",
    "    os.makedirs(MASKED_IMAGE_PATH)"
   ]
  },
  {
   "cell_type": "markdown",
   "id": "f8e47370",
   "metadata": {},
   "source": [
    "('000001.json', {'item2': {'segmentation': [[460, 438, 374, 484, 251, 520, 269, 586, 298, 622, 410, 623, 410, 567, 413, 591, 420, 623, 465, 622, 456, 561, 466, 504, 460, 438], [374, 484, 251, 520, 269, 586, 298, 622, 410, 623, 410, 567, 374, 484], [460, 438, 374, 484, 410, 567, 413, 591, 420, 623, 465, 622, 456, 561, 466, 504, 460, 438]], 'scale': 2, 'viewpoint': 2, 'zoom_in': 3, 'landmarks': [251, 520, 1, 374, 484, 1, 460, 438, 1, 269, 586, 1, 0, 0, 0, 0, 0, 0, 0, 0, 0, 0, 0, 0, 410, 567, 1, 413, 591, 2, 0, 0, 0, 0, 0, 0, 456, 561, 2, 0, 0, 0], 'style': 0, 'bounding_box': [249, 423, 466, 623], 'category_id': 8, 'occlusion': 2, 'category_name': 'trousers'}, 'source': 'user', 'pair_id': 1, 'item1': {'segmentation': [[257, 35, 261, 89, 228, 123, 137, 103, 45, 91, 1, 176, 0, 332, 47, 447, 151, 401, 141, 366, 129, 328, 141, 364, 219, 485, 274, 603, 401, 590, 467, 502, 442, 336, 369, 195, 348, 138, 363, 163, 372, 197, 433, 137, 396, 92, 341, 35, 257, 35], [1, 176, 0, 332, 47, 447, 151, 401, 141, 366, 129, 328, 1, 176], [348, 138, 363, 163, 372, 197, 433, 137, 396, 92, 341, 35, 348, 138]], 'scale': 3, 'viewpoint': 2, 'zoom_in': 2, 'landmarks': [182, 54, 1, 45, 91, 1, 137, 103, 1, 228, 123, 1, 261, 89, 1, 257, 35, 1, 0, 0, 0, 0, 0, 0, 47, 447, 2, 151, 401, 2, 141, 366, 2, 129, 328, 2, 141, 364, 2, 219, 485, 2, 274, 603, 2, 401, 590, 2, 0, 0, 0, 442, 336, 2, 369, 195, 1, 348, 138, 1, 363, 163, 1, 372, 197, 1, 433, 137, 2, 396, 92, 2, 341, 35, 1], 'style': 1, 'bounding_box': [0, 29, 466, 622], 'category_id': 1, 'occlusion': 2, 'category_name': 'short sleeve top'}}),\n",
    "\n",
    "---\n",
    "\n",
    "json data 구조 위와 같음.\n",
    "\n",
    "\"item\\<x>\" 마다 segmentation이 따로 있어서 \n",
    "\n",
    "`sep_mask` 는 **item 마다 다른 색**을 지정.<br>\n",
    "`zero_mask` 는 **item 상관없이 모든 segmentation 영역을 검은색**으로 지정.<br>\n",
    "`masked_image` 는 **해당 마스크가 어디 영역인지 보기 편하게 실제 image 위에 적용**한거."
   ]
  },
  {
   "cell_type": "code",
   "execution_count": 4,
   "id": "b0dc2ca8",
   "metadata": {},
   "outputs": [],
   "source": [
    "json_data = read_json_files(JSON_PATH)\n",
    "\n",
    "for json_file, data in json_data:\n",
    "    segmentations = []\n",
    "    for key in data:\n",
    "        if key.startswith('item') and 'segmentation' in data[key]:\n",
    "            segmentations.append(data[key]['segmentation'])\n",
    "    \n",
    "    if not segmentations:\n",
    "        print(f\"No segmentations found in {json_file}.\")\n",
    "        continue\n",
    "    \n",
    "    image_name = json_file.replace('.json', '.jpg')  # Assuming image files are .jpg\n",
    "    image_path = os.path.join(IMAGE_PATH, image_name)\n",
    "    image = cv2.imread(image_path)\n",
    "    \n",
    "    if image is None:\n",
    "        print(f\"Image {image_name} not found.\")\n",
    "        continue\n",
    "    \n",
    "    sep_mask = create_sep_mask_from_segmentations(image.shape, segmentations)    \n",
    "    sep_mask_path = os.path.join(SEP_MASK_PATH, image_name)\n",
    "    cv2.imwrite(sep_mask_path, sep_mask)\n",
    "\n",
    "    zero_mask = create_zero_mask_from_segmentations(image.shape, segmentations)\n",
    "    zero_mask_path = os.path.join(ZERO_MASK_PATH, image_name)\n",
    "    cv2.imwrite(zero_mask_path, zero_mask)\n",
    "\n",
    "    # Create new image with mask applied\n",
    "    masked_image = cv2.bitwise_and(image, image, mask=zero_mask)\n",
    "    masked_image_path = os.path.join(MASKED_IMAGE_PATH, image_name)\n",
    "    cv2.imwrite(masked_image_path, masked_image)"
   ]
  }
 ],
 "metadata": {
  "kernelspec": {
   "display_name": "PyTorch 2.2 (NGC 23.11/Python 3.10) on Backend.AI",
   "language": "python",
   "name": "python3"
  },
  "language_info": {
   "codemirror_mode": {
    "name": "ipython",
    "version": 3
   },
   "file_extension": ".py",
   "mimetype": "text/x-python",
   "name": "python",
   "nbconvert_exporter": "python",
   "pygments_lexer": "ipython3",
   "version": "3.10.12"
  }
 },
 "nbformat": 4,
 "nbformat_minor": 5
}
